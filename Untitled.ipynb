{
 "cells": [
  {
   "cell_type": "code",
   "execution_count": null,
   "metadata": {},
   "outputs": [],
   "source": [
    "import numpy as np\n",
    "import pandas as pd\n",
    "import math\n",
    "from scipy.stats import beta\n",
    "from pystan import StanModel\n",
    "import pickle\n",
    "\n",
    "d_bLDA = pd.read_csv('d_bLDA.csv')\n",
    "stanmodel = StanModel(file='bLDA.stan')\n",
    "\n",
    "fit_nuts = stanmodel.sampling(data={'E':len(d_bLDA),'N':N,'K':K,'I':I,'WordID':list(d_bLDA['WordID']),'DocumentID':list(d_bLDA['DocumentID']),'balance':list(d_bLDA['Balance']),'Alpha':[0.8 for i in range(K)],'Beta':[0.2 for i in range(I)]})  \n",
    "with open('output/model_and_result_nuts.pkl', 'wb') as f:\n",
    "    pickle.dump(stanmodel, f)\n",
    "    pickle.dump(fit_nuts, f)\n",
    "        \n"
   ]
  },
  {
   "cell_type": "code",
   "execution_count": null,
   "metadata": {},
   "outputs": [],
   "source": [
    "import pandas as pd\n",
    "kaken_informatics = pd.read_csv('../Desktop/kaken/kaken_informatics.csv')\n",
    "kaken_informatics = kaken_informatics.dropna(subset=['研究概要'])"
   ]
  },
  {
   "cell_type": "code",
   "execution_count": null,
   "metadata": {},
   "outputs": [],
   "source": [
    "kaken_gaiyou = kaken_informatics['研究概要']\n",
    "kaken_budget = kaken_informatics['総配分額']"
   ]
  },
  {
   "cell_type": "code",
   "execution_count": null,
   "metadata": {},
   "outputs": [],
   "source": [
    "import MeCab\n",
    "tagger = MeCab.Tagger('-d /usr/local/lib/mecab/dic/mecab-ipadic-neologd')\n",
    "\n",
    "input = '今週末は金剛山に登りに行って、そのあと新世界かどっかで打ち上げしましょ。'\n",
    "\n",
    "result = tagger.parse(input)\n",
    "print(result)\n",
    "\n",
    "node = tagger.parseToNode(input)\n",
    "target_parts_of_speech = ('名詞', )\n",
    "while node:\n",
    "    if node.feature.split(',')[0] in target_parts_of_speech:\n",
    "        print(node.surface)\n",
    "    node = node.next\n"
   ]
  },
  {
   "cell_type": "code",
   "execution_count": null,
   "metadata": {},
   "outputs": [],
   "source": [
    "import collections\n",
    "collections.Counter(['a', 'b', 'a', 'd', 'a']) # => Counter({'a': 3, 'b': 1, 'd': 1})\n",
    "from sklearn.feature_extraction import DictVectorizer\n",
    "v = DictVectorizer()\n",
    "v.fit_transform([{'a': 3, 'b': 1, 'd': 1}, {'a': 1, 'c': 3, 'd': 2}]).toarray()\n",
    "# => array([[ 3.,  1.,  0.,  1.],\n",
    "#           [ 1.,  0.,  3.,  2.]])"
   ]
  },
  {
   "cell_type": "code",
   "execution_count": null,
   "metadata": {},
   "outputs": [],
   "source": [
    "kaken_bow = []\n",
    "for text in kaken_gaiyou:\n",
    "    node = tagger.parseToNode(text)\n",
    "    target_parts_of_speech = ('名詞','動詞', )\n",
    "    tmp = []\n",
    "    while node:\n",
    "        if node.feature.split(',')[0] in target_parts_of_speech:\n",
    "                tmp.append(node.surface)\n",
    "        node = node.next\n",
    "    kaken_bow.append(tmp)"
   ]
  },
  {
   "cell_type": "code",
   "execution_count": null,
   "metadata": {},
   "outputs": [],
   "source": [
    "import collections\n",
    "kaken_counter = []\n",
    "for bow in kaken_bow: \n",
    "    tmp = collections.Counter(bow)\n",
    "    kaken_counter.append(tmp)\n",
    "    "
   ]
  },
  {
   "cell_type": "code",
   "execution_count": null,
   "metadata": {
    "scrolled": true
   },
   "outputs": [],
   "source": [
    "stop_words"
   ]
  },
  {
   "cell_type": "code",
   "execution_count": null,
   "metadata": {},
   "outputs": [],
   "source": [
    "import numpy as np\n",
    "from sklearn.feature_extraction import DictVectorizer\n",
    "v = DictVectorizer()\n",
    "kaken_dtm = v.fit_transform(kaken_counter).toarray()\n"
   ]
  },
  {
   "cell_type": "code",
   "execution_count": null,
   "metadata": {},
   "outputs": [],
   "source": [
    "stop_words = []\n",
    "with open('../Desktop/stop_words.txt') as f:\n",
    "    for line in f.readlines():\n",
    "        text = line.replace('\\n','')\n",
    "        stop_words.append(text)"
   ]
  },
  {
   "cell_type": "code",
   "execution_count": null,
   "metadata": {},
   "outputs": [],
   "source": [
    "import gensim \n",
    "from gensim import corpora"
   ]
  },
  {
   "cell_type": "code",
   "execution_count": null,
   "metadata": {},
   "outputs": [],
   "source": [
    "texts = [word for word in kaken_bow if word not in stop_words]"
   ]
  },
  {
   "cell_type": "code",
   "execution_count": null,
   "metadata": {},
   "outputs": [],
   "source": [
    "dictionary = corpora.Dictionary(texts)\n"
   ]
  },
  {
   "cell_type": "code",
   "execution_count": null,
   "metadata": {},
   "outputs": [],
   "source": [
    "corpus = [dictionary.doc2bow(text) for text in texts]\n"
   ]
  },
  {
   "cell_type": "code",
   "execution_count": null,
   "metadata": {},
   "outputs": [],
   "source": [
    "d_bLDA = pd.DataFrame(columns=['DocumentID','WordID','Balance'])\n",
    "WordID = []\n",
    "DocumentID = []\n",
    "Balance = []\n",
    "for i,document in enumerate(corpus):\n",
    "    WordID = []\n",
    "    DocumentID = []\n",
    "    Balance = []\n",
    "    for t in document:\n",
    "        for n in range(t[1]):\n",
    "            WordID.append(t[0])\n",
    "            DocumentID.append(i+1)\n",
    "            Balance.append(kaken_budget[i])\n",
    "    df = pd.DataFrame({'DocumentID':DocumentID ,'WordID':WordID,'Balance':Balance})\n",
    "    d_bLDA = pd.concat([d_bLDA,df])\n",
    "            "
   ]
  },
  {
   "cell_type": "code",
   "execution_count": null,
   "metadata": {},
   "outputs": [],
   "source": [
    "d_bLDA.to_csv(\"d_bLDA.csv\", sep=\",\")\n"
   ]
  },
  {
   "cell_type": "code",
   "execution_count": null,
   "metadata": {},
   "outputs": [],
   "source": [
    "kaken_budget"
   ]
  },
  {
   "cell_type": "code",
   "execution_count": null,
   "metadata": {},
   "outputs": [],
   "source": []
  }
 ],
 "metadata": {
  "kernelspec": {
   "display_name": "Python 3",
   "language": "python",
   "name": "python3"
  },
  "language_info": {
   "codemirror_mode": {
    "name": "ipython",
    "version": 3
   },
   "file_extension": ".py",
   "mimetype": "text/x-python",
   "name": "python",
   "nbconvert_exporter": "python",
   "pygments_lexer": "ipython3",
   "version": "3.5.2"
  }
 },
 "nbformat": 4,
 "nbformat_minor": 2
}
